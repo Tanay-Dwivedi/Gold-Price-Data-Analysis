{
 "cells": [
  {
   "cell_type": "markdown",
   "id": "66f4966a-ad44-4d41-bfe1-bfa1f06b76ac",
   "metadata": {},
   "source": [
    "# Gold Price Data Analysis"
   ]
  },
  {
   "cell_type": "markdown",
   "id": "ec8c971e-f294-455c-89a3-f9295d5c6fa6",
   "metadata": {},
   "source": [
    "### Adding the imports"
   ]
  },
  {
   "cell_type": "code",
   "execution_count": 2,
   "id": "5f03f7cf-a54a-48c1-bc8d-4867a486f648",
   "metadata": {},
   "outputs": [],
   "source": [
    "import pandas as pd\n",
    "import matplotlib.pyplot as plt\n",
    "import seaborn as sb\n",
    "import plotly.express as px"
   ]
  },
  {
   "cell_type": "markdown",
   "id": "e2d8c059-0d29-4056-a60c-ddbf8ab4cf34",
   "metadata": {},
   "source": [
    "### Creating the DataFrame"
   ]
  },
  {
   "cell_type": "code",
   "execution_count": 3,
   "id": "f90de22b-9f25-4667-9659-2edb60a4244a",
   "metadata": {},
   "outputs": [],
   "source": [
    "df = pd.read_csv(\"gold.csv\")"
   ]
  },
  {
   "cell_type": "markdown",
   "id": "ee4491e4-e583-45fa-b2f2-c717ec8d42a9",
   "metadata": {},
   "source": [
    "### Reading the data"
   ]
  },
  {
   "cell_type": "code",
   "execution_count": 4,
   "id": "c4fa5ef5-16df-4878-92dc-4ac75469e229",
   "metadata": {},
   "outputs": [
    {
     "data": {
      "text/html": [
       "<div>\n",
       "<style scoped>\n",
       "    .dataframe tbody tr th:only-of-type {\n",
       "        vertical-align: middle;\n",
       "    }\n",
       "\n",
       "    .dataframe tbody tr th {\n",
       "        vertical-align: top;\n",
       "    }\n",
       "\n",
       "    .dataframe thead th {\n",
       "        text-align: right;\n",
       "    }\n",
       "</style>\n",
       "<table border=\"1\" class=\"dataframe\">\n",
       "  <thead>\n",
       "    <tr style=\"text-align: right;\">\n",
       "      <th></th>\n",
       "      <th>time</th>\n",
       "      <th>open</th>\n",
       "      <th>high</th>\n",
       "      <th>low</th>\n",
       "      <th>close</th>\n",
       "      <th>rsi14</th>\n",
       "      <th>sma14</th>\n",
       "    </tr>\n",
       "  </thead>\n",
       "  <tbody>\n",
       "    <tr>\n",
       "      <th>0</th>\n",
       "      <td>2010-01-03 18:00:00</td>\n",
       "      <td>1098.45</td>\n",
       "      <td>1100.0</td>\n",
       "      <td>1098.05</td>\n",
       "      <td>1099.95</td>\n",
       "      <td>81.98</td>\n",
       "      <td>1096.38</td>\n",
       "    </tr>\n",
       "    <tr>\n",
       "      <th>1</th>\n",
       "      <td>2010-01-03 18:05:00</td>\n",
       "      <td>1100.00</td>\n",
       "      <td>1100.3</td>\n",
       "      <td>1099.45</td>\n",
       "      <td>1099.75</td>\n",
       "      <td>79.17</td>\n",
       "      <td>1096.72</td>\n",
       "    </tr>\n",
       "    <tr>\n",
       "      <th>2</th>\n",
       "      <td>2010-01-03 18:10:00</td>\n",
       "      <td>1099.70</td>\n",
       "      <td>1100.1</td>\n",
       "      <td>1099.30</td>\n",
       "      <td>1099.45</td>\n",
       "      <td>75.02</td>\n",
       "      <td>1097.03</td>\n",
       "    </tr>\n",
       "    <tr>\n",
       "      <th>3</th>\n",
       "      <td>2010-01-03 18:15:00</td>\n",
       "      <td>1099.50</td>\n",
       "      <td>1099.6</td>\n",
       "      <td>1098.50</td>\n",
       "      <td>1099.45</td>\n",
       "      <td>75.02</td>\n",
       "      <td>1097.30</td>\n",
       "    </tr>\n",
       "    <tr>\n",
       "      <th>4</th>\n",
       "      <td>2010-01-03 18:20:00</td>\n",
       "      <td>1099.40</td>\n",
       "      <td>1099.6</td>\n",
       "      <td>1098.90</td>\n",
       "      <td>1098.90</td>\n",
       "      <td>67.50</td>\n",
       "      <td>1097.50</td>\n",
       "    </tr>\n",
       "  </tbody>\n",
       "</table>\n",
       "</div>"
      ],
      "text/plain": [
       "                  time     open    high      low    close  rsi14    sma14\n",
       "0  2010-01-03 18:00:00  1098.45  1100.0  1098.05  1099.95  81.98  1096.38\n",
       "1  2010-01-03 18:05:00  1100.00  1100.3  1099.45  1099.75  79.17  1096.72\n",
       "2  2010-01-03 18:10:00  1099.70  1100.1  1099.30  1099.45  75.02  1097.03\n",
       "3  2010-01-03 18:15:00  1099.50  1099.6  1098.50  1099.45  75.02  1097.30\n",
       "4  2010-01-03 18:20:00  1099.40  1099.6  1098.90  1098.90  67.50  1097.50"
      ]
     },
     "execution_count": 4,
     "metadata": {},
     "output_type": "execute_result"
    }
   ],
   "source": [
    "df.head()"
   ]
  },
  {
   "cell_type": "code",
   "execution_count": 5,
   "id": "c1c5a3c1-b5a2-4323-b222-5ccb0479f2a6",
   "metadata": {},
   "outputs": [
    {
     "data": {
      "text/html": [
       "<div>\n",
       "<style scoped>\n",
       "    .dataframe tbody tr th:only-of-type {\n",
       "        vertical-align: middle;\n",
       "    }\n",
       "\n",
       "    .dataframe tbody tr th {\n",
       "        vertical-align: top;\n",
       "    }\n",
       "\n",
       "    .dataframe thead th {\n",
       "        text-align: right;\n",
       "    }\n",
       "</style>\n",
       "<table border=\"1\" class=\"dataframe\">\n",
       "  <thead>\n",
       "    <tr style=\"text-align: right;\">\n",
       "      <th></th>\n",
       "      <th>time</th>\n",
       "      <th>open</th>\n",
       "      <th>high</th>\n",
       "      <th>low</th>\n",
       "      <th>close</th>\n",
       "      <th>rsi14</th>\n",
       "      <th>sma14</th>\n",
       "    </tr>\n",
       "  </thead>\n",
       "  <tbody>\n",
       "    <tr>\n",
       "      <th>985999</th>\n",
       "      <td>2023-12-29 16:35:00</td>\n",
       "      <td>2063.07</td>\n",
       "      <td>2063.24</td>\n",
       "      <td>2062.60</td>\n",
       "      <td>2062.96</td>\n",
       "      <td>39.44</td>\n",
       "      <td>2063.48</td>\n",
       "    </tr>\n",
       "    <tr>\n",
       "      <th>986000</th>\n",
       "      <td>2023-12-29 16:40:00</td>\n",
       "      <td>2062.95</td>\n",
       "      <td>2063.09</td>\n",
       "      <td>2062.52</td>\n",
       "      <td>2062.61</td>\n",
       "      <td>37.12</td>\n",
       "      <td>2063.27</td>\n",
       "    </tr>\n",
       "    <tr>\n",
       "      <th>986001</th>\n",
       "      <td>2023-12-29 16:45:00</td>\n",
       "      <td>2062.60</td>\n",
       "      <td>2062.83</td>\n",
       "      <td>2062.34</td>\n",
       "      <td>2062.56</td>\n",
       "      <td>36.79</td>\n",
       "      <td>2063.06</td>\n",
       "    </tr>\n",
       "    <tr>\n",
       "      <th>986002</th>\n",
       "      <td>2023-12-29 16:50:00</td>\n",
       "      <td>2062.56</td>\n",
       "      <td>2063.20</td>\n",
       "      <td>2062.51</td>\n",
       "      <td>2062.54</td>\n",
       "      <td>36.65</td>\n",
       "      <td>2062.95</td>\n",
       "    </tr>\n",
       "    <tr>\n",
       "      <th>986003</th>\n",
       "      <td>2023-12-29 16:55:00</td>\n",
       "      <td>2062.52</td>\n",
       "      <td>2063.00</td>\n",
       "      <td>2062.37</td>\n",
       "      <td>2062.73</td>\n",
       "      <td>39.05</td>\n",
       "      <td>2062.90</td>\n",
       "    </tr>\n",
       "  </tbody>\n",
       "</table>\n",
       "</div>"
      ],
      "text/plain": [
       "                       time     open     high      low    close  rsi14  \\\n",
       "985999  2023-12-29 16:35:00  2063.07  2063.24  2062.60  2062.96  39.44   \n",
       "986000  2023-12-29 16:40:00  2062.95  2063.09  2062.52  2062.61  37.12   \n",
       "986001  2023-12-29 16:45:00  2062.60  2062.83  2062.34  2062.56  36.79   \n",
       "986002  2023-12-29 16:50:00  2062.56  2063.20  2062.51  2062.54  36.65   \n",
       "986003  2023-12-29 16:55:00  2062.52  2063.00  2062.37  2062.73  39.05   \n",
       "\n",
       "          sma14  \n",
       "985999  2063.48  \n",
       "986000  2063.27  \n",
       "986001  2063.06  \n",
       "986002  2062.95  \n",
       "986003  2062.90  "
      ]
     },
     "execution_count": 5,
     "metadata": {},
     "output_type": "execute_result"
    }
   ],
   "source": [
    "df.tail()"
   ]
  },
  {
   "cell_type": "markdown",
   "id": "4447acfd-de86-4c6b-b92b-ea23238b18af",
   "metadata": {},
   "source": [
    "### Exploring the data"
   ]
  },
  {
   "cell_type": "code",
   "execution_count": 6,
   "id": "cdae974f-cbc7-4d5b-9fa6-ef7a2f5eafc2",
   "metadata": {},
   "outputs": [
    {
     "data": {
      "text/plain": [
       "(986004, 7)"
      ]
     },
     "execution_count": 6,
     "metadata": {},
     "output_type": "execute_result"
    }
   ],
   "source": [
    "df.shape"
   ]
  },
  {
   "cell_type": "code",
   "execution_count": 7,
   "id": "a30a7f82-24eb-471c-a1ee-a01bf0755254",
   "metadata": {},
   "outputs": [
    {
     "data": {
      "text/plain": [
       "Index(['time', 'open', 'high', 'low', 'close', 'rsi14', 'sma14'], dtype='object')"
      ]
     },
     "execution_count": 7,
     "metadata": {},
     "output_type": "execute_result"
    }
   ],
   "source": [
    "df.columns"
   ]
  },
  {
   "cell_type": "code",
   "execution_count": 9,
   "id": "7471818b-1d16-4b80-a285-5c4168f0a8d2",
   "metadata": {},
   "outputs": [
    {
     "name": "stdout",
     "output_type": "stream",
     "text": [
      "<class 'pandas.core.frame.DataFrame'>\n",
      "RangeIndex: 986004 entries, 0 to 986003\n",
      "Data columns (total 7 columns):\n",
      " #   Column  Non-Null Count   Dtype  \n",
      "---  ------  --------------   -----  \n",
      " 0   time    986004 non-null  object \n",
      " 1   open    986004 non-null  float64\n",
      " 2   high    986004 non-null  float64\n",
      " 3   low     986004 non-null  float64\n",
      " 4   close   986004 non-null  float64\n",
      " 5   rsi14   986004 non-null  float64\n",
      " 6   sma14   986004 non-null  float64\n",
      "dtypes: float64(6), object(1)\n",
      "memory usage: 52.7+ MB\n"
     ]
    }
   ],
   "source": [
    "df.info()"
   ]
  },
  {
   "cell_type": "markdown",
   "id": "27a7f3aa-3965-4858-96f1-dd6da6bb68b5",
   "metadata": {},
   "source": [
    "### Filtering and exploring the _null_ values"
   ]
  },
  {
   "cell_type": "code",
   "execution_count": 10,
   "id": "27787f3e-271c-460f-961b-ed955aec96b3",
   "metadata": {},
   "outputs": [
    {
     "data": {
      "text/plain": [
       "time     0\n",
       "open     0\n",
       "high     0\n",
       "low      0\n",
       "close    0\n",
       "rsi14    0\n",
       "sma14    0\n",
       "dtype: int64"
      ]
     },
     "execution_count": 10,
     "metadata": {},
     "output_type": "execute_result"
    }
   ],
   "source": [
    "df.isnull().sum()"
   ]
  },
  {
   "cell_type": "markdown",
   "id": "162f158c-9de6-451d-9960-6d07c53b02cd",
   "metadata": {},
   "source": [
    "### Data Types"
   ]
  },
  {
   "cell_type": "code",
   "execution_count": 11,
   "id": "ed8423f3-03af-4ce3-95b3-f18aeac92a43",
   "metadata": {},
   "outputs": [
    {
     "data": {
      "text/plain": [
       "time      object\n",
       "open     float64\n",
       "high     float64\n",
       "low      float64\n",
       "close    float64\n",
       "rsi14    float64\n",
       "sma14    float64\n",
       "dtype: object"
      ]
     },
     "execution_count": 11,
     "metadata": {},
     "output_type": "execute_result"
    }
   ],
   "source": [
    "df.dtypes"
   ]
  },
  {
   "cell_type": "markdown",
   "id": "079a0835-4a7a-4381-a485-93883d255d08",
   "metadata": {},
   "source": [
    "### Converting the \"time\" column datatype to date-time format"
   ]
  },
  {
   "cell_type": "code",
   "execution_count": 14,
   "id": "2c50c351-f27f-464f-b2fc-bab4eafde506",
   "metadata": {},
   "outputs": [],
   "source": [
    "df['time'] = pd.to_datetime(df['time'])"
   ]
  },
  {
   "cell_type": "code",
   "execution_count": 15,
   "id": "6b48d656-e15f-43c6-9c61-69aa213bd168",
   "metadata": {},
   "outputs": [
    {
     "data": {
      "text/html": [
       "<div>\n",
       "<style scoped>\n",
       "    .dataframe tbody tr th:only-of-type {\n",
       "        vertical-align: middle;\n",
       "    }\n",
       "\n",
       "    .dataframe tbody tr th {\n",
       "        vertical-align: top;\n",
       "    }\n",
       "\n",
       "    .dataframe thead th {\n",
       "        text-align: right;\n",
       "    }\n",
       "</style>\n",
       "<table border=\"1\" class=\"dataframe\">\n",
       "  <thead>\n",
       "    <tr style=\"text-align: right;\">\n",
       "      <th></th>\n",
       "      <th>time</th>\n",
       "      <th>open</th>\n",
       "      <th>high</th>\n",
       "      <th>low</th>\n",
       "      <th>close</th>\n",
       "      <th>rsi14</th>\n",
       "      <th>sma14</th>\n",
       "    </tr>\n",
       "  </thead>\n",
       "  <tbody>\n",
       "    <tr>\n",
       "      <th>0</th>\n",
       "      <td>2010-01-03 18:00:00</td>\n",
       "      <td>1098.45</td>\n",
       "      <td>1100.0</td>\n",
       "      <td>1098.05</td>\n",
       "      <td>1099.95</td>\n",
       "      <td>81.98</td>\n",
       "      <td>1096.38</td>\n",
       "    </tr>\n",
       "    <tr>\n",
       "      <th>1</th>\n",
       "      <td>2010-01-03 18:05:00</td>\n",
       "      <td>1100.00</td>\n",
       "      <td>1100.3</td>\n",
       "      <td>1099.45</td>\n",
       "      <td>1099.75</td>\n",
       "      <td>79.17</td>\n",
       "      <td>1096.72</td>\n",
       "    </tr>\n",
       "  </tbody>\n",
       "</table>\n",
       "</div>"
      ],
      "text/plain": [
       "                 time     open    high      low    close  rsi14    sma14\n",
       "0 2010-01-03 18:00:00  1098.45  1100.0  1098.05  1099.95  81.98  1096.38\n",
       "1 2010-01-03 18:05:00  1100.00  1100.3  1099.45  1099.75  79.17  1096.72"
      ]
     },
     "execution_count": 15,
     "metadata": {},
     "output_type": "execute_result"
    }
   ],
   "source": [
    "df.head(2)"
   ]
  },
  {
   "cell_type": "code",
   "execution_count": 16,
   "id": "2b85fc8c-988b-4c36-81f5-3081c8a22c34",
   "metadata": {},
   "outputs": [
    {
     "data": {
      "text/plain": [
       "time     datetime64[ns]\n",
       "open            float64\n",
       "high            float64\n",
       "low             float64\n",
       "close           float64\n",
       "rsi14           float64\n",
       "sma14           float64\n",
       "dtype: object"
      ]
     },
     "execution_count": 16,
     "metadata": {},
     "output_type": "execute_result"
    }
   ],
   "source": [
    "df.dtypes"
   ]
  },
  {
   "cell_type": "markdown",
   "id": "e94bcde1-d3c3-492f-8ebc-2db7c6b77d14",
   "metadata": {},
   "source": [
    "### Adding the \"Year\" column"
   ]
  },
  {
   "cell_type": "code",
   "execution_count": 20,
   "id": "4f74a44a-3c68-4a5f-b47a-33423938a842",
   "metadata": {},
   "outputs": [],
   "source": [
    "df[\"Year\"] = pd.to_datetime(df[\"time\"]).dt.year"
   ]
  },
  {
   "cell_type": "code",
   "execution_count": 21,
   "id": "ff87db5b-cadc-444a-9680-2a5f225dac32",
   "metadata": {},
   "outputs": [
    {
     "data": {
      "text/html": [
       "<div>\n",
       "<style scoped>\n",
       "    .dataframe tbody tr th:only-of-type {\n",
       "        vertical-align: middle;\n",
       "    }\n",
       "\n",
       "    .dataframe tbody tr th {\n",
       "        vertical-align: top;\n",
       "    }\n",
       "\n",
       "    .dataframe thead th {\n",
       "        text-align: right;\n",
       "    }\n",
       "</style>\n",
       "<table border=\"1\" class=\"dataframe\">\n",
       "  <thead>\n",
       "    <tr style=\"text-align: right;\">\n",
       "      <th></th>\n",
       "      <th>time</th>\n",
       "      <th>Year</th>\n",
       "      <th>open</th>\n",
       "      <th>high</th>\n",
       "      <th>low</th>\n",
       "      <th>close</th>\n",
       "      <th>rsi14</th>\n",
       "      <th>sma14</th>\n",
       "    </tr>\n",
       "  </thead>\n",
       "  <tbody>\n",
       "    <tr>\n",
       "      <th>0</th>\n",
       "      <td>2010-01-03 18:00:00</td>\n",
       "      <td>2010</td>\n",
       "      <td>1098.45</td>\n",
       "      <td>1100.0</td>\n",
       "      <td>1098.05</td>\n",
       "      <td>1099.95</td>\n",
       "      <td>81.98</td>\n",
       "      <td>1096.38</td>\n",
       "    </tr>\n",
       "    <tr>\n",
       "      <th>1</th>\n",
       "      <td>2010-01-03 18:05:00</td>\n",
       "      <td>2010</td>\n",
       "      <td>1100.00</td>\n",
       "      <td>1100.3</td>\n",
       "      <td>1099.45</td>\n",
       "      <td>1099.75</td>\n",
       "      <td>79.17</td>\n",
       "      <td>1096.72</td>\n",
       "    </tr>\n",
       "  </tbody>\n",
       "</table>\n",
       "</div>"
      ],
      "text/plain": [
       "                 time  Year     open    high      low    close  rsi14    sma14\n",
       "0 2010-01-03 18:00:00  2010  1098.45  1100.0  1098.05  1099.95  81.98  1096.38\n",
       "1 2010-01-03 18:05:00  2010  1100.00  1100.3  1099.45  1099.75  79.17  1096.72"
      ]
     },
     "execution_count": 21,
     "metadata": {},
     "output_type": "execute_result"
    }
   ],
   "source": [
    "df.head(2)"
   ]
  },
  {
   "cell_type": "markdown",
   "id": "f491f558-8553-407a-9429-0b5c4524732f",
   "metadata": {},
   "source": [
    "### Adding the \"Month\" column"
   ]
  },
  {
   "cell_type": "code",
   "execution_count": 22,
   "id": "3883405a-6b44-443a-900c-b1bef0ce373b",
   "metadata": {},
   "outputs": [],
   "source": [
    "df[\"Month\"] = pd.to_datetime(df[\"time\"]).dt.month"
   ]
  },
  {
   "cell_type": "code",
   "execution_count": 23,
   "id": "92ae6cbc-4700-4d9f-bf20-3a4d2467617e",
   "metadata": {},
   "outputs": [
    {
     "data": {
      "text/html": [
       "<div>\n",
       "<style scoped>\n",
       "    .dataframe tbody tr th:only-of-type {\n",
       "        vertical-align: middle;\n",
       "    }\n",
       "\n",
       "    .dataframe tbody tr th {\n",
       "        vertical-align: top;\n",
       "    }\n",
       "\n",
       "    .dataframe thead th {\n",
       "        text-align: right;\n",
       "    }\n",
       "</style>\n",
       "<table border=\"1\" class=\"dataframe\">\n",
       "  <thead>\n",
       "    <tr style=\"text-align: right;\">\n",
       "      <th></th>\n",
       "      <th>time</th>\n",
       "      <th>Year</th>\n",
       "      <th>open</th>\n",
       "      <th>high</th>\n",
       "      <th>low</th>\n",
       "      <th>close</th>\n",
       "      <th>rsi14</th>\n",
       "      <th>sma14</th>\n",
       "      <th>Month</th>\n",
       "    </tr>\n",
       "  </thead>\n",
       "  <tbody>\n",
       "    <tr>\n",
       "      <th>0</th>\n",
       "      <td>2010-01-03 18:00:00</td>\n",
       "      <td>2010</td>\n",
       "      <td>1098.45</td>\n",
       "      <td>1100.0</td>\n",
       "      <td>1098.05</td>\n",
       "      <td>1099.95</td>\n",
       "      <td>81.98</td>\n",
       "      <td>1096.38</td>\n",
       "      <td>1</td>\n",
       "    </tr>\n",
       "    <tr>\n",
       "      <th>1</th>\n",
       "      <td>2010-01-03 18:05:00</td>\n",
       "      <td>2010</td>\n",
       "      <td>1100.00</td>\n",
       "      <td>1100.3</td>\n",
       "      <td>1099.45</td>\n",
       "      <td>1099.75</td>\n",
       "      <td>79.17</td>\n",
       "      <td>1096.72</td>\n",
       "      <td>1</td>\n",
       "    </tr>\n",
       "  </tbody>\n",
       "</table>\n",
       "</div>"
      ],
      "text/plain": [
       "                 time  Year     open    high      low    close  rsi14  \\\n",
       "0 2010-01-03 18:00:00  2010  1098.45  1100.0  1098.05  1099.95  81.98   \n",
       "1 2010-01-03 18:05:00  2010  1100.00  1100.3  1099.45  1099.75  79.17   \n",
       "\n",
       "     sma14  Month  \n",
       "0  1096.38      1  \n",
       "1  1096.72      1  "
      ]
     },
     "execution_count": 23,
     "metadata": {},
     "output_type": "execute_result"
    }
   ],
   "source": [
    "df.head(2)"
   ]
  },
  {
   "cell_type": "markdown",
   "id": "56e0798f-9a0b-4069-9dcc-08d0834cae7e",
   "metadata": {},
   "source": [
    "## Research Questions"
   ]
  },
  {
   "cell_type": "code",
   "execution_count": null,
   "id": "a2c1f7ba-ae07-4703-ad4e-c9df87037738",
   "metadata": {},
   "outputs": [],
   "source": []
  }
 ],
 "metadata": {
  "kernelspec": {
   "display_name": "Python 3 (ipykernel)",
   "language": "python",
   "name": "python3"
  },
  "language_info": {
   "codemirror_mode": {
    "name": "ipython",
    "version": 3
   },
   "file_extension": ".py",
   "mimetype": "text/x-python",
   "name": "python",
   "nbconvert_exporter": "python",
   "pygments_lexer": "ipython3",
   "version": "3.12.1"
  }
 },
 "nbformat": 4,
 "nbformat_minor": 5
}
