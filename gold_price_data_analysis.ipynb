{
 "cells": [
  {
   "cell_type": "markdown",
   "id": "66f4966a-ad44-4d41-bfe1-bfa1f06b76ac",
   "metadata": {},
   "source": [
    "# Gold Price Data Analysis"
   ]
  },
  {
   "cell_type": "markdown",
   "id": "ec8c971e-f294-455c-89a3-f9295d5c6fa6",
   "metadata": {},
   "source": [
    "### Adding the imports"
   ]
  },
  {
   "cell_type": "code",
   "execution_count": 2,
   "id": "5f03f7cf-a54a-48c1-bc8d-4867a486f648",
   "metadata": {},
   "outputs": [],
   "source": [
    "import pandas as pd\n",
    "import matplotlib.pyplot as plt\n",
    "import seaborn as sb\n",
    "import plotly.express as px"
   ]
  },
  {
   "cell_type": "markdown",
   "id": "e2d8c059-0d29-4056-a60c-ddbf8ab4cf34",
   "metadata": {},
   "source": [
    "### Creating the DataFrame"
   ]
  },
  {
   "cell_type": "code",
   "execution_count": 3,
   "id": "f90de22b-9f25-4667-9659-2edb60a4244a",
   "metadata": {},
   "outputs": [],
   "source": [
    "df = pd.read_csv(\"gold.csv\")"
   ]
  },
  {
   "cell_type": "markdown",
   "id": "ee4491e4-e583-45fa-b2f2-c717ec8d42a9",
   "metadata": {},
   "source": [
    "### Reading the data"
   ]
  },
  {
   "cell_type": "code",
   "execution_count": 4,
   "id": "c4fa5ef5-16df-4878-92dc-4ac75469e229",
   "metadata": {},
   "outputs": [
    {
     "data": {
      "text/html": [
       "<div>\n",
       "<style scoped>\n",
       "    .dataframe tbody tr th:only-of-type {\n",
       "        vertical-align: middle;\n",
       "    }\n",
       "\n",
       "    .dataframe tbody tr th {\n",
       "        vertical-align: top;\n",
       "    }\n",
       "\n",
       "    .dataframe thead th {\n",
       "        text-align: right;\n",
       "    }\n",
       "</style>\n",
       "<table border=\"1\" class=\"dataframe\">\n",
       "  <thead>\n",
       "    <tr style=\"text-align: right;\">\n",
       "      <th></th>\n",
       "      <th>time</th>\n",
       "      <th>open</th>\n",
       "      <th>high</th>\n",
       "      <th>low</th>\n",
       "      <th>close</th>\n",
       "      <th>rsi14</th>\n",
       "      <th>sma14</th>\n",
       "    </tr>\n",
       "  </thead>\n",
       "  <tbody>\n",
       "    <tr>\n",
       "      <th>0</th>\n",
       "      <td>2010-01-03 18:00:00</td>\n",
       "      <td>1098.45</td>\n",
       "      <td>1100.0</td>\n",
       "      <td>1098.05</td>\n",
       "      <td>1099.95</td>\n",
       "      <td>81.98</td>\n",
       "      <td>1096.38</td>\n",
       "    </tr>\n",
       "    <tr>\n",
       "      <th>1</th>\n",
       "      <td>2010-01-03 18:05:00</td>\n",
       "      <td>1100.00</td>\n",
       "      <td>1100.3</td>\n",
       "      <td>1099.45</td>\n",
       "      <td>1099.75</td>\n",
       "      <td>79.17</td>\n",
       "      <td>1096.72</td>\n",
       "    </tr>\n",
       "    <tr>\n",
       "      <th>2</th>\n",
       "      <td>2010-01-03 18:10:00</td>\n",
       "      <td>1099.70</td>\n",
       "      <td>1100.1</td>\n",
       "      <td>1099.30</td>\n",
       "      <td>1099.45</td>\n",
       "      <td>75.02</td>\n",
       "      <td>1097.03</td>\n",
       "    </tr>\n",
       "    <tr>\n",
       "      <th>3</th>\n",
       "      <td>2010-01-03 18:15:00</td>\n",
       "      <td>1099.50</td>\n",
       "      <td>1099.6</td>\n",
       "      <td>1098.50</td>\n",
       "      <td>1099.45</td>\n",
       "      <td>75.02</td>\n",
       "      <td>1097.30</td>\n",
       "    </tr>\n",
       "    <tr>\n",
       "      <th>4</th>\n",
       "      <td>2010-01-03 18:20:00</td>\n",
       "      <td>1099.40</td>\n",
       "      <td>1099.6</td>\n",
       "      <td>1098.90</td>\n",
       "      <td>1098.90</td>\n",
       "      <td>67.50</td>\n",
       "      <td>1097.50</td>\n",
       "    </tr>\n",
       "  </tbody>\n",
       "</table>\n",
       "</div>"
      ],
      "text/plain": [
       "                  time     open    high      low    close  rsi14    sma14\n",
       "0  2010-01-03 18:00:00  1098.45  1100.0  1098.05  1099.95  81.98  1096.38\n",
       "1  2010-01-03 18:05:00  1100.00  1100.3  1099.45  1099.75  79.17  1096.72\n",
       "2  2010-01-03 18:10:00  1099.70  1100.1  1099.30  1099.45  75.02  1097.03\n",
       "3  2010-01-03 18:15:00  1099.50  1099.6  1098.50  1099.45  75.02  1097.30\n",
       "4  2010-01-03 18:20:00  1099.40  1099.6  1098.90  1098.90  67.50  1097.50"
      ]
     },
     "execution_count": 4,
     "metadata": {},
     "output_type": "execute_result"
    }
   ],
   "source": [
    "df.head()"
   ]
  },
  {
   "cell_type": "code",
   "execution_count": 5,
   "id": "c1c5a3c1-b5a2-4323-b222-5ccb0479f2a6",
   "metadata": {},
   "outputs": [
    {
     "data": {
      "text/html": [
       "<div>\n",
       "<style scoped>\n",
       "    .dataframe tbody tr th:only-of-type {\n",
       "        vertical-align: middle;\n",
       "    }\n",
       "\n",
       "    .dataframe tbody tr th {\n",
       "        vertical-align: top;\n",
       "    }\n",
       "\n",
       "    .dataframe thead th {\n",
       "        text-align: right;\n",
       "    }\n",
       "</style>\n",
       "<table border=\"1\" class=\"dataframe\">\n",
       "  <thead>\n",
       "    <tr style=\"text-align: right;\">\n",
       "      <th></th>\n",
       "      <th>time</th>\n",
       "      <th>open</th>\n",
       "      <th>high</th>\n",
       "      <th>low</th>\n",
       "      <th>close</th>\n",
       "      <th>rsi14</th>\n",
       "      <th>sma14</th>\n",
       "    </tr>\n",
       "  </thead>\n",
       "  <tbody>\n",
       "    <tr>\n",
       "      <th>985999</th>\n",
       "      <td>2023-12-29 16:35:00</td>\n",
       "      <td>2063.07</td>\n",
       "      <td>2063.24</td>\n",
       "      <td>2062.60</td>\n",
       "      <td>2062.96</td>\n",
       "      <td>39.44</td>\n",
       "      <td>2063.48</td>\n",
       "    </tr>\n",
       "    <tr>\n",
       "      <th>986000</th>\n",
       "      <td>2023-12-29 16:40:00</td>\n",
       "      <td>2062.95</td>\n",
       "      <td>2063.09</td>\n",
       "      <td>2062.52</td>\n",
       "      <td>2062.61</td>\n",
       "      <td>37.12</td>\n",
       "      <td>2063.27</td>\n",
       "    </tr>\n",
       "    <tr>\n",
       "      <th>986001</th>\n",
       "      <td>2023-12-29 16:45:00</td>\n",
       "      <td>2062.60</td>\n",
       "      <td>2062.83</td>\n",
       "      <td>2062.34</td>\n",
       "      <td>2062.56</td>\n",
       "      <td>36.79</td>\n",
       "      <td>2063.06</td>\n",
       "    </tr>\n",
       "    <tr>\n",
       "      <th>986002</th>\n",
       "      <td>2023-12-29 16:50:00</td>\n",
       "      <td>2062.56</td>\n",
       "      <td>2063.20</td>\n",
       "      <td>2062.51</td>\n",
       "      <td>2062.54</td>\n",
       "      <td>36.65</td>\n",
       "      <td>2062.95</td>\n",
       "    </tr>\n",
       "    <tr>\n",
       "      <th>986003</th>\n",
       "      <td>2023-12-29 16:55:00</td>\n",
       "      <td>2062.52</td>\n",
       "      <td>2063.00</td>\n",
       "      <td>2062.37</td>\n",
       "      <td>2062.73</td>\n",
       "      <td>39.05</td>\n",
       "      <td>2062.90</td>\n",
       "    </tr>\n",
       "  </tbody>\n",
       "</table>\n",
       "</div>"
      ],
      "text/plain": [
       "                       time     open     high      low    close  rsi14  \\\n",
       "985999  2023-12-29 16:35:00  2063.07  2063.24  2062.60  2062.96  39.44   \n",
       "986000  2023-12-29 16:40:00  2062.95  2063.09  2062.52  2062.61  37.12   \n",
       "986001  2023-12-29 16:45:00  2062.60  2062.83  2062.34  2062.56  36.79   \n",
       "986002  2023-12-29 16:50:00  2062.56  2063.20  2062.51  2062.54  36.65   \n",
       "986003  2023-12-29 16:55:00  2062.52  2063.00  2062.37  2062.73  39.05   \n",
       "\n",
       "          sma14  \n",
       "985999  2063.48  \n",
       "986000  2063.27  \n",
       "986001  2063.06  \n",
       "986002  2062.95  \n",
       "986003  2062.90  "
      ]
     },
     "execution_count": 5,
     "metadata": {},
     "output_type": "execute_result"
    }
   ],
   "source": [
    "df.tail()"
   ]
  },
  {
   "cell_type": "markdown",
   "id": "4447acfd-de86-4c6b-b92b-ea23238b18af",
   "metadata": {},
   "source": [
    "### Exploring the data"
   ]
  },
  {
   "cell_type": "code",
   "execution_count": null,
   "id": "cdae974f-cbc7-4d5b-9fa6-ef7a2f5eafc2",
   "metadata": {},
   "outputs": [],
   "source": []
  }
 ],
 "metadata": {
  "kernelspec": {
   "display_name": "Python 3 (ipykernel)",
   "language": "python",
   "name": "python3"
  },
  "language_info": {
   "codemirror_mode": {
    "name": "ipython",
    "version": 3
   },
   "file_extension": ".py",
   "mimetype": "text/x-python",
   "name": "python",
   "nbconvert_exporter": "python",
   "pygments_lexer": "ipython3",
   "version": "3.12.1"
  }
 },
 "nbformat": 4,
 "nbformat_minor": 5
}
